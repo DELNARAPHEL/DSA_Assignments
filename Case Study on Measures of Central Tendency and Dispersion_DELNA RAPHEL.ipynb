{
 "cells": [
  {
   "cell_type": "markdown",
   "id": "21a90fd4",
   "metadata": {},
   "source": [
    "# Case Study on Measures of Central Tendency and Dispersion\n"
   ]
  },
  {
   "cell_type": "markdown",
   "id": "06908d88",
   "metadata": {},
   "source": [
    "* Input_data = \"StudentsPerformance.csv\""
   ]
  },
  {
   "cell_type": "code",
   "execution_count": 4,
   "id": "b04b0101",
   "metadata": {},
   "outputs": [
    {
     "data": {
      "text/html": [
       "<div>\n",
       "<style scoped>\n",
       "    .dataframe tbody tr th:only-of-type {\n",
       "        vertical-align: middle;\n",
       "    }\n",
       "\n",
       "    .dataframe tbody tr th {\n",
       "        vertical-align: top;\n",
       "    }\n",
       "\n",
       "    .dataframe thead th {\n",
       "        text-align: right;\n",
       "    }\n",
       "</style>\n",
       "<table border=\"1\" class=\"dataframe\">\n",
       "  <thead>\n",
       "    <tr style=\"text-align: right;\">\n",
       "      <th></th>\n",
       "      <th>gender</th>\n",
       "      <th>race/ethnicity</th>\n",
       "      <th>parental level of education</th>\n",
       "      <th>lunch</th>\n",
       "      <th>test preparation course</th>\n",
       "      <th>math score</th>\n",
       "      <th>reading score</th>\n",
       "      <th>writing score</th>\n",
       "    </tr>\n",
       "  </thead>\n",
       "  <tbody>\n",
       "    <tr>\n",
       "      <th>0</th>\n",
       "      <td>female</td>\n",
       "      <td>group C</td>\n",
       "      <td>some high school</td>\n",
       "      <td>free/reduced</td>\n",
       "      <td>none</td>\n",
       "      <td>0</td>\n",
       "      <td>17</td>\n",
       "      <td>10</td>\n",
       "    </tr>\n",
       "    <tr>\n",
       "      <th>1</th>\n",
       "      <td>female</td>\n",
       "      <td>group B</td>\n",
       "      <td>high school</td>\n",
       "      <td>free/reduced</td>\n",
       "      <td>none</td>\n",
       "      <td>8</td>\n",
       "      <td>24</td>\n",
       "      <td>23</td>\n",
       "    </tr>\n",
       "    <tr>\n",
       "      <th>2</th>\n",
       "      <td>female</td>\n",
       "      <td>group B</td>\n",
       "      <td>some high school</td>\n",
       "      <td>free/reduced</td>\n",
       "      <td>none</td>\n",
       "      <td>18</td>\n",
       "      <td>32</td>\n",
       "      <td>28</td>\n",
       "    </tr>\n",
       "    <tr>\n",
       "      <th>3</th>\n",
       "      <td>female</td>\n",
       "      <td>group B</td>\n",
       "      <td>some college</td>\n",
       "      <td>standard</td>\n",
       "      <td>none</td>\n",
       "      <td>11</td>\n",
       "      <td>38</td>\n",
       "      <td>32</td>\n",
       "    </tr>\n",
       "    <tr>\n",
       "      <th>4</th>\n",
       "      <td>female</td>\n",
       "      <td>group C</td>\n",
       "      <td>some college</td>\n",
       "      <td>free/reduced</td>\n",
       "      <td>none</td>\n",
       "      <td>22</td>\n",
       "      <td>39</td>\n",
       "      <td>33</td>\n",
       "    </tr>\n",
       "  </tbody>\n",
       "</table>\n",
       "</div>"
      ],
      "text/plain": [
       "   gender race/ethnicity parental level of education         lunch  \\\n",
       "0  female        group C            some high school  free/reduced   \n",
       "1  female        group B                 high school  free/reduced   \n",
       "2  female        group B            some high school  free/reduced   \n",
       "3  female        group B                some college      standard   \n",
       "4  female        group C                some college  free/reduced   \n",
       "\n",
       "  test preparation course  math score  reading score  writing score  \n",
       "0                    none           0             17             10  \n",
       "1                    none           8             24             23  \n",
       "2                    none          18             32             28  \n",
       "3                    none          11             38             32  \n",
       "4                    none          22             39             33  "
      ]
     },
     "execution_count": 4,
     "metadata": {},
     "output_type": "execute_result"
    }
   ],
   "source": [
    "import pandas as pd\n",
    "import numpy as np\n",
    "#reading the input data\n",
    "data=pd.read_csv(r'C:\\Users\\DELNA.RAPHEL\\Desktop\\New folder\\StudentsPerformance.csv')\n",
    "#Diplaying the first 5 rows\n",
    "data.head()"
   ]
  },
  {
   "cell_type": "code",
   "execution_count": 6,
   "id": "99c2e3db",
   "metadata": {},
   "outputs": [
    {
     "data": {
      "text/html": [
       "<div>\n",
       "<style scoped>\n",
       "    .dataframe tbody tr th:only-of-type {\n",
       "        vertical-align: middle;\n",
       "    }\n",
       "\n",
       "    .dataframe tbody tr th {\n",
       "        vertical-align: top;\n",
       "    }\n",
       "\n",
       "    .dataframe thead th {\n",
       "        text-align: right;\n",
       "    }\n",
       "</style>\n",
       "<table border=\"1\" class=\"dataframe\">\n",
       "  <thead>\n",
       "    <tr style=\"text-align: right;\">\n",
       "      <th></th>\n",
       "      <th>gender</th>\n",
       "      <th>race/ethnicity</th>\n",
       "      <th>parental level of education</th>\n",
       "      <th>lunch</th>\n",
       "      <th>test preparation course</th>\n",
       "      <th>math score</th>\n",
       "      <th>reading score</th>\n",
       "      <th>writing score</th>\n",
       "      <th>Total</th>\n",
       "    </tr>\n",
       "  </thead>\n",
       "  <tbody>\n",
       "    <tr>\n",
       "      <th>0</th>\n",
       "      <td>female</td>\n",
       "      <td>group C</td>\n",
       "      <td>some high school</td>\n",
       "      <td>free/reduced</td>\n",
       "      <td>none</td>\n",
       "      <td>0</td>\n",
       "      <td>17</td>\n",
       "      <td>10</td>\n",
       "      <td>27</td>\n",
       "    </tr>\n",
       "    <tr>\n",
       "      <th>1</th>\n",
       "      <td>female</td>\n",
       "      <td>group B</td>\n",
       "      <td>high school</td>\n",
       "      <td>free/reduced</td>\n",
       "      <td>none</td>\n",
       "      <td>8</td>\n",
       "      <td>24</td>\n",
       "      <td>23</td>\n",
       "      <td>55</td>\n",
       "    </tr>\n",
       "    <tr>\n",
       "      <th>2</th>\n",
       "      <td>female</td>\n",
       "      <td>group B</td>\n",
       "      <td>some high school</td>\n",
       "      <td>free/reduced</td>\n",
       "      <td>none</td>\n",
       "      <td>18</td>\n",
       "      <td>32</td>\n",
       "      <td>28</td>\n",
       "      <td>78</td>\n",
       "    </tr>\n",
       "    <tr>\n",
       "      <th>3</th>\n",
       "      <td>female</td>\n",
       "      <td>group B</td>\n",
       "      <td>some college</td>\n",
       "      <td>standard</td>\n",
       "      <td>none</td>\n",
       "      <td>11</td>\n",
       "      <td>38</td>\n",
       "      <td>32</td>\n",
       "      <td>81</td>\n",
       "    </tr>\n",
       "    <tr>\n",
       "      <th>4</th>\n",
       "      <td>female</td>\n",
       "      <td>group C</td>\n",
       "      <td>some college</td>\n",
       "      <td>free/reduced</td>\n",
       "      <td>none</td>\n",
       "      <td>22</td>\n",
       "      <td>39</td>\n",
       "      <td>33</td>\n",
       "      <td>94</td>\n",
       "    </tr>\n",
       "  </tbody>\n",
       "</table>\n",
       "</div>"
      ],
      "text/plain": [
       "   gender race/ethnicity parental level of education         lunch  \\\n",
       "0  female        group C            some high school  free/reduced   \n",
       "1  female        group B                 high school  free/reduced   \n",
       "2  female        group B            some high school  free/reduced   \n",
       "3  female        group B                some college      standard   \n",
       "4  female        group C                some college  free/reduced   \n",
       "\n",
       "  test preparation course  math score  reading score  writing score  Total  \n",
       "0                    none           0             17             10     27  \n",
       "1                    none           8             24             23     55  \n",
       "2                    none          18             32             28     78  \n",
       "3                    none          11             38             32     81  \n",
       "4                    none          22             39             33     94  "
      ]
     },
     "execution_count": 6,
     "metadata": {},
     "output_type": "execute_result"
    }
   ],
   "source": [
    "#Adding a new column named as Total.\n",
    "data[\"Total\"]=data['math score']+data['writing score']+data['reading score']\n",
    "data.head()"
   ]
  },
  {
   "cell_type": "markdown",
   "id": "7df6df35",
   "metadata": {},
   "source": [
    "# 1. Find out how many males and females participated in the test."
   ]
  },
  {
   "cell_type": "code",
   "execution_count": 33,
   "id": "da65ac96",
   "metadata": {},
   "outputs": [
    {
     "name": "stdout",
     "output_type": "stream",
     "text": [
      "No. of males and females participated in the test are 482,518.\n"
     ]
    },
    {
     "data": {
      "text/plain": [
       "gender\n",
       "female    518\n",
       "male      482\n",
       "Name: Total, dtype: int64"
      ]
     },
     "execution_count": 33,
     "metadata": {},
     "output_type": "execute_result"
    }
   ],
   "source": [
    "#Grouping the dataset based on gender and finding the count.\n",
    "grouped_by_gender=data.groupby([\"gender\"]).count()\n",
    "\n",
    "print('No. of males and females participated in the test are 482,518.')\n",
    "grouped_by_gender['Total']"
   ]
  },
  {
   "cell_type": "markdown",
   "id": "faa21317",
   "metadata": {},
   "source": [
    "# 2. What do you think about the students' parental level of education?"
   ]
  },
  {
   "cell_type": "code",
   "execution_count": 7,
   "id": "ede354f2",
   "metadata": {},
   "outputs": [
    {
     "name": "stdout",
     "output_type": "stream",
     "text": [
      "parental level of education\n",
      "associate's degree    222\n",
      "bachelor's degree     118\n",
      "high school           196\n",
      "master's degree        59\n",
      "some college          226\n",
      "some high school      179\n",
      "Name: Total, dtype: int64\n",
      "\n",
      "The majority of parents(226) are having education at some college level.\n",
      "The second position(222)is associates degree.\n",
      "The least number of parents(59) are having masters degree.\n",
      "\n"
     ]
    },
    {
     "data": {
      "image/png": "[encoded data removed]",
      "text/plain": [
       "<Figure size 432x288 with 1 Axes>"
      ]
     },
     "metadata": {
      "needs_background": "light"
     },
     "output_type": "display_data"
    }
   ],
   "source": [
    "import matplotlib.pyplot as plt\n",
    "import seaborn as sns\n",
    "\n",
    "a=data['parental level of education']\n",
    "\n",
    "#plotting countplot\n",
    "sns.countplot(x=a)\n",
    "plt.xticks(rotation=45)\n",
    "plt.grid()\n",
    "plt.ylim(0,250)\n",
    "plt.title('Countplot of parental level of education')\n",
    "\n",
    "#grouping and finding the count\n",
    "grouped=data.groupby([\"parental level of education\"]).count()\n",
    "print(grouped['Total'])\n",
    "#diplaying the inference\n",
    "print('\\nThe majority of parents(226) are having education at some college level.\\nThe second position(222)is associates degree.\\nThe least number of parents(59) are having masters degree.\\n')\n"
   ]
  },
  {
   "cell_type": "code",
   "execution_count": 19,
   "id": "aa45914f",
   "metadata": {},
   "outputs": [
    {
     "name": "stdout",
     "output_type": "stream",
     "text": [
      "We can infer relationship between students parental level of education and their scores.\n",
      "*The students whose parents are having masters degree are scoring the most on average for math, reading and writing.\n",
      "*The students whose parents are having high school level education are scoring the least. \n"
     ]
    },
    {
     "data": {
      "text/html": [
       "<div>\n",
       "<style scoped>\n",
       "    .dataframe tbody tr th:only-of-type {\n",
       "        vertical-align: middle;\n",
       "    }\n",
       "\n",
       "    .dataframe tbody tr th {\n",
       "        vertical-align: top;\n",
       "    }\n",
       "\n",
       "    .dataframe thead th {\n",
       "        text-align: right;\n",
       "    }\n",
       "</style>\n",
       "<table border=\"1\" class=\"dataframe\">\n",
       "  <thead>\n",
       "    <tr style=\"text-align: right;\">\n",
       "      <th></th>\n",
       "      <th>math score</th>\n",
       "      <th>reading score</th>\n",
       "      <th>writing score</th>\n",
       "      <th>Total</th>\n",
       "    </tr>\n",
       "    <tr>\n",
       "      <th>parental level of education</th>\n",
       "      <th></th>\n",
       "      <th></th>\n",
       "      <th></th>\n",
       "      <th></th>\n",
       "    </tr>\n",
       "  </thead>\n",
       "  <tbody>\n",
       "    <tr>\n",
       "      <th>associate's degree</th>\n",
       "      <td>67.977477</td>\n",
       "      <td>71.018018</td>\n",
       "      <td>70.031532</td>\n",
       "      <td>209.027027</td>\n",
       "    </tr>\n",
       "    <tr>\n",
       "      <th>bachelor's degree</th>\n",
       "      <td>69.288136</td>\n",
       "      <td>73.000000</td>\n",
       "      <td>73.381356</td>\n",
       "      <td>215.669492</td>\n",
       "    </tr>\n",
       "    <tr>\n",
       "      <th>high school</th>\n",
       "      <td>61.821429</td>\n",
       "      <td>64.602041</td>\n",
       "      <td>62.403061</td>\n",
       "      <td>188.826531</td>\n",
       "    </tr>\n",
       "    <tr>\n",
       "      <th>master's degree</th>\n",
       "      <td>70.254237</td>\n",
       "      <td>75.949153</td>\n",
       "      <td>75.677966</td>\n",
       "      <td>221.881356</td>\n",
       "    </tr>\n",
       "    <tr>\n",
       "      <th>some college</th>\n",
       "      <td>67.128319</td>\n",
       "      <td>69.566372</td>\n",
       "      <td>69.035398</td>\n",
       "      <td>205.730088</td>\n",
       "    </tr>\n",
       "    <tr>\n",
       "      <th>some high school</th>\n",
       "      <td>63.134078</td>\n",
       "      <td>66.759777</td>\n",
       "      <td>64.888268</td>\n",
       "      <td>194.782123</td>\n",
       "    </tr>\n",
       "  </tbody>\n",
       "</table>\n",
       "</div>"
      ],
      "text/plain": [
       "                             math score  reading score  writing score  \\\n",
       "parental level of education                                             \n",
       "associate's degree            67.977477      71.018018      70.031532   \n",
       "bachelor's degree             69.288136      73.000000      73.381356   \n",
       "high school                   61.821429      64.602041      62.403061   \n",
       "master's degree               70.254237      75.949153      75.677966   \n",
       "some college                  67.128319      69.566372      69.035398   \n",
       "some high school              63.134078      66.759777      64.888268   \n",
       "\n",
       "                                  Total  \n",
       "parental level of education              \n",
       "associate's degree           209.027027  \n",
       "bachelor's degree            215.669492  \n",
       "high school                  188.826531  \n",
       "master's degree              221.881356  \n",
       "some college                 205.730088  \n",
       "some high school             194.782123  "
      ]
     },
     "execution_count": 19,
     "metadata": {},
     "output_type": "execute_result"
    }
   ],
   "source": [
    "grouped=data.groupby([\"parental level of education\"]).mean()\n",
    "print('We can infer relationship between students parental level of education and their scores.\\n*The students whose parents are having masters degree are scoring the most on average for math, reading and writing.\\n*The students whose parents are having high school level education are scoring the least. ')\n",
    "grouped"
   ]
  },
  {
   "cell_type": "markdown",
   "id": "cb66b9af",
   "metadata": {},
   "source": [
    "# 3. Who scores the most on average for math, reading and writing based on\n",
    "● Gender\n"
   ]
  },
  {
   "cell_type": "code",
   "execution_count": 37,
   "id": "826fdcde",
   "metadata": {},
   "outputs": [
    {
     "name": "stdout",
     "output_type": "stream",
     "text": [
      "The average of each scores grouped by gender is:\n",
      "\n",
      "         math score  reading score  writing score       Total\n",
      "gender                                                      \n",
      "female   63.376448      72.590734      72.467181  208.434363\n",
      "male     68.821577      65.545643      63.446058  197.813278\n",
      "\n",
      " -Female students score the most on average of total score for math,reading and writing.\n",
      "*Female students score the most on average of reading and writing score.\n",
      "*Male students score the most on average of math score. \n"
     ]
    }
   ],
   "source": [
    "#grouping based on gender and finding the mean.\n",
    "grouped_by_gender=data.groupby([\"gender\"]).mean()\n",
    "\n",
    "print('The average of each scores grouped by gender is:\\n\\n',grouped_by_gender)\n",
    "print('\\n -Female students score the most on average of total score for math,reading and writing.\\n*Female students score the most on average of reading and writing score.\\n*Male students score the most on average of math score. ')"
   ]
  },
  {
   "cell_type": "markdown",
   "id": "bc21dd77",
   "metadata": {},
   "source": [
    "● Test preparation course"
   ]
  },
  {
   "cell_type": "code",
   "execution_count": 9,
   "id": "fc66df83",
   "metadata": {},
   "outputs": [
    {
     "name": "stdout",
     "output_type": "stream",
     "text": [
      "The average of each scores grouped by Test preparation course is:\n",
      "\n",
      "                          math score  reading score  writing score       Total\n",
      "test preparation course                                                      \n",
      "completed                  69.96648      74.175978      74.684358  218.826816\n",
      "none                       63.78972      66.417445      64.457944  194.665109\n",
      "\n",
      " The students who completed test preparation course scores the most on average of math,reading and writing.\n"
     ]
    }
   ],
   "source": [
    "#grouping based on  Test preparation course and finding the mean.\n",
    "grouped_by_Test_preparation_course=data.groupby([\"test preparation course\"]).mean()\n",
    "\n",
    "print('The average of each scores grouped by Test preparation course is:\\n\\n',grouped_by_Test_preparation_course)\n",
    "print('\\n The students who completed test preparation course scores the most on average of math,reading and writing.')"
   ]
  },
  {
   "cell_type": "markdown",
   "id": "e7416574",
   "metadata": {},
   "source": [
    "# 4. What do you think about the scoring variation for math, reading and writing\n",
    "based on\n",
    "● Gender"
   ]
  },
  {
   "cell_type": "code",
   "execution_count": 29,
   "id": "699fdf0c",
   "metadata": {},
   "outputs": [
    {
     "name": "stdout",
     "output_type": "stream",
     "text": [
      "The standard deviation of each scores grouped by gender is:\n",
      "\n",
      "         math score  reading score  writing score      Total\n",
      "gender                                                     \n",
      "female   16.029928      14.411018      14.844842  44.110799\n",
      "male     14.556411      14.149594      14.227225  41.604543\n",
      "\n",
      " -As the calculated standard deviation is comparitively less for Male students,\n",
      "they are more consistent in the scores of math,reading and writing.\n"
     ]
    }
   ],
   "source": [
    "#grouping based on gender and finding the standard deviation.\n",
    "grouped_by_gender=data.groupby([\"gender\"]).std()\n",
    "print('The standard deviation of each scores grouped by gender is:\\n\\n',grouped_by_gender)\n",
    "print('\\n -As the calculated standard deviation is comparitively less for Male students,\\nthey are more consistent in the scores of math,reading and writing.')\n"
   ]
  },
  {
   "cell_type": "markdown",
   "id": "2b2ef0ef",
   "metadata": {},
   "source": [
    "● Test preparation course"
   ]
  },
  {
   "cell_type": "code",
   "execution_count": 27,
   "id": "c850c1b9",
   "metadata": {},
   "outputs": [
    {
     "name": "stdout",
     "output_type": "stream",
     "text": [
      "The standard deviation of each scores grouped by Test preparation course is:\n",
      "\n",
      "                          math score  reading score  writing score      Total\n",
      "test preparation course                                                     \n",
      "completed                 14.521847      13.537572      13.236412  38.829703\n",
      "none                      15.705689      14.608896      15.041667  43.163966\n",
      "\n",
      " -The students who completed test preparation course are comparitively more consistent in the scores of average of math,reading and writing.\n"
     ]
    }
   ],
   "source": [
    "#grouping based on Test preparation course and finding the standard deviation.\n",
    "grouped_by_Test_preparation_course=data.groupby([\"test preparation course\"]).std()\n",
    "print('The standard deviation of each scores grouped by Test preparation course is:\\n\\n',grouped_by_Test_preparation_course)\n",
    "print('\\n -The students who completed test preparation course are comparitively more consistent in the scores of average of math,reading and writing.')\n"
   ]
  },
  {
   "cell_type": "markdown",
   "id": "282b5e6c",
   "metadata": {},
   "source": [
    "# 5. The management needs your help to give bonus points to the top 25% of\n",
    "students based on their maths score, so how will you help the management\n",
    "to achieve this."
   ]
  },
  {
   "cell_type": "code",
   "execution_count": 40,
   "id": "b3bbf831",
   "metadata": {},
   "outputs": [
    {
     "name": "stdout",
     "output_type": "stream",
     "text": [
      "The top 25% of students based on maths score are those who having maths score higher than 77.0\n",
      "255\n",
      "There are 255 students who achieved top 25% in math score.\n"
     ]
    },
    {
     "data": {
      "image/png": "[encoded data removed]",
      "text/plain": [
       "<Figure size 432x288 with 1 Axes>"
      ]
     },
     "metadata": {
      "needs_background": "light"
     },
     "output_type": "display_data"
    }
   ],
   "source": [
    "#plotting the boxplot\n",
    "plt.boxplot(data['math score'])\n",
    "plt.grid(which='major',color='red', linestyle='--', alpha=0.95)\n",
    "plt.title('Boxplot of math score')\n",
    "\n",
    "#finding the third quartile of maths score\n",
    "Third_quartile=np.quantile(data['math score'],0.75)\n",
    "print('The top 25% of students based on maths score are those who having maths score higher than',Third_quartile)\n",
    "\n",
    "#find the number of students achieved top 25% in math score.\n",
    "data2=data[data['math score']>=Third_quartile].count()\n",
    "print(data2['Total'])\n",
    "print('There are 255 students who achieved top 25% in math score.')"
   ]
  },
  {
   "cell_type": "code",
   "execution_count": null,
   "id": "e4f02b77",
   "metadata": {},
   "outputs": [],
   "source": []
  }
 ],
 "metadata": {
  "kernelspec": {
   "display_name": "Python 3",
   "language": "python",
   "name": "python3"
  },
  "language_info": {
   "codemirror_mode": {
    "name": "ipython",
    "version": 3
   },
   "file_extension": ".py",
   "mimetype": "text/x-python",
   "name": "python",
   "nbconvert_exporter": "python",
   "pygments_lexer": "ipython3",
   "version": "3.8.8"
  }
 },
 "nbformat": 4,
 "nbformat_minor": 5
}
